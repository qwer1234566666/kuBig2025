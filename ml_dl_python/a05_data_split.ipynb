{
 "cells": [
  {
   "cell_type": "code",
   "execution_count": 1,
   "id": "35eb14ea",
   "metadata": {},
   "outputs": [],
   "source": [
    "length = [\n",
    "    25.4,\n",
    "    26.3,\n",
    "    26.5,\n",
    "    29.0,\n",
    "    29.0,\n",
    "    29.7,\n",
    "    29.7,\n",
    "    30.0,\n",
    "    30.0,\n",
    "    30.7,\n",
    "    31.0,\n",
    "    31.0,\n",
    "    31.5,\n",
    "    32.0,\n",
    "    32.0,\n",
    "    32.0,\n",
    "    33.0,\n",
    "    33.0,\n",
    "    33.5,\n",
    "    33.5,\n",
    "    34.0,\n",
    "    34.0,\n",
    "    34.5,\n",
    "    35.0,\n",
    "    35.0,\n",
    "    35.0,\n",
    "    35.0,\n",
    "    36.0,\n",
    "    36.0,\n",
    "    37.0,\n",
    "    38.5,\n",
    "    38.5,\n",
    "    39.5,\n",
    "    41.0,\n",
    "    41.0,\n",
    "    9.8,\n",
    "    10.5,\n",
    "    10.6,\n",
    "    11.0,\n",
    "    11.2,\n",
    "    11.3,\n",
    "    11.8,\n",
    "    11.8,\n",
    "    12.0,\n",
    "    12.2,\n",
    "    12.4,\n",
    "    13.0,\n",
    "    14.3,\n",
    "    15.0,\n",
    "]\n",
    "weight = [\n",
    "    242.0,\n",
    "    290.0,\n",
    "    340.0,\n",
    "    363.0,\n",
    "    430.0,\n",
    "    450.0,\n",
    "    500.0,\n",
    "    390.0,\n",
    "    450.0,\n",
    "    500.0,\n",
    "    475.0,\n",
    "    500.0,\n",
    "    500.0,\n",
    "    340.0,\n",
    "    600.0,\n",
    "    600.0,\n",
    "    700.0,\n",
    "    700.0,\n",
    "    610.0,\n",
    "    650.0,\n",
    "    575.0,\n",
    "    685.0,\n",
    "    620.0,\n",
    "    680.0,\n",
    "    700.0,\n",
    "    725.0,\n",
    "    720.0,\n",
    "    714.0,\n",
    "    850.0,\n",
    "    1000.0,\n",
    "    920.0,\n",
    "    955.0,\n",
    "    925.0,\n",
    "    975.0,\n",
    "    950.0,\n",
    "    6.7,\n",
    "    7.5,\n",
    "    7.0,\n",
    "    9.7,\n",
    "    9.8,\n",
    "    8.7,\n",
    "    10.0,\n",
    "    9.9,\n",
    "    9.8,\n",
    "    12.2,\n",
    "    13.4,\n",
    "    12.2,\n",
    "    19.7,\n",
    "    19.9,\n",
    "]\n",
    "label = [\n",
    "    1,\n",
    "    1,\n",
    "    1,\n",
    "    1,\n",
    "    1,\n",
    "    1,\n",
    "    1,\n",
    "    1,\n",
    "    1,\n",
    "    1,\n",
    "    1,\n",
    "    1,\n",
    "    1,\n",
    "    1,\n",
    "    1,\n",
    "    1,\n",
    "    1,\n",
    "    1,\n",
    "    1,\n",
    "    1,\n",
    "    1,\n",
    "    1,\n",
    "    1,\n",
    "    1,\n",
    "    1,\n",
    "    1,\n",
    "    1,\n",
    "    1,\n",
    "    1,\n",
    "    1,\n",
    "    1,\n",
    "    1,\n",
    "    1,\n",
    "    1,\n",
    "    1,\n",
    "    0,\n",
    "    0,\n",
    "    0,\n",
    "    0,\n",
    "    0,\n",
    "    0,\n",
    "    0,\n",
    "    0,\n",
    "    0,\n",
    "    0,\n",
    "    0,\n",
    "    0,\n",
    "    0,\n",
    "    0,\n",
    "]\n",
    "fish_data = [[l, w] for l, w in zip(length, weight)]"
   ]
  },
  {
   "cell_type": "code",
   "execution_count": 2,
   "id": "763a69b9",
   "metadata": {},
   "outputs": [],
   "source": [
    "import numpy as np"
   ]
  },
  {
   "cell_type": "code",
   "execution_count": 3,
   "id": "e3ea96a8",
   "metadata": {},
   "outputs": [],
   "source": [
    "input_arr = np.array(fish_data)\n",
    "target_arr = np.array(label)"
   ]
  },
  {
   "cell_type": "code",
   "execution_count": 4,
   "id": "2ce030f8",
   "metadata": {},
   "outputs": [],
   "source": [
    "from sklearn.model_selection import train_test_split"
   ]
  },
  {
   "cell_type": "code",
   "execution_count": 5,
   "id": "0dd804a5",
   "metadata": {},
   "outputs": [],
   "source": [
    "train_input, test_input, train_target, test_target = train_test_split(\n",
    "    input_arr, target_arr, train_size=0.8, random_state=42\n",
    ")"
   ]
  },
  {
   "cell_type": "code",
   "execution_count": 6,
   "id": "9cba76c7",
   "metadata": {},
   "outputs": [
    {
     "name": "stdout",
     "output_type": "stream",
     "text": [
      "(39, 2) (39,)\n"
     ]
    }
   ],
   "source": [
    "print(train_input.shape, train_target.shape)"
   ]
  },
  {
   "cell_type": "code",
   "execution_count": 7,
   "id": "c06d9ff8",
   "metadata": {},
   "outputs": [
    {
     "name": "stdout",
     "output_type": "stream",
     "text": [
      "(10, 2) (10,)\n"
     ]
    }
   ],
   "source": [
    "print(test_input.shape, test_target.shape)"
   ]
  },
  {
   "cell_type": "code",
   "execution_count": 8,
   "id": "7e08a369",
   "metadata": {},
   "outputs": [
    {
     "data": {
      "text/plain": [
       "array([[ 31.5, 500. ],\n",
       "       [ 29. , 430. ],\n",
       "       [ 41. , 950. ],\n",
       "       [ 30. , 450. ],\n",
       "       [ 29. , 363. ]])"
      ]
     },
     "execution_count": 8,
     "metadata": {},
     "output_type": "execute_result"
    }
   ],
   "source": [
    "train_input[:5, :]"
   ]
  },
  {
   "cell_type": "code",
   "execution_count": 9,
   "id": "309d666a",
   "metadata": {},
   "outputs": [
    {
     "name": "stdout",
     "output_type": "stream",
     "text": [
      "1.0\n"
     ]
    }
   ],
   "source": [
    "from sklearn.neighbors import KNeighborsClassifier\n",
    "\n",
    "knn = KNeighborsClassifier()\n",
    "knn.fit(train_input, train_target)\n",
    "print(knn.score(test_input, test_target))  # validation == test"
   ]
  },
  {
   "cell_type": "code",
   "execution_count": 10,
   "id": "0220c66d",
   "metadata": {},
   "outputs": [
    {
     "name": "stdout",
     "output_type": "stream",
     "text": [
      "[0]\n"
     ]
    }
   ],
   "source": [
    "print(knn.predict([[25, 150]]))"
   ]
  },
  {
   "cell_type": "code",
   "execution_count": 11,
   "id": "ebde75fd",
   "metadata": {},
   "outputs": [
    {
     "name": "stdout",
     "output_type": "stream",
     "text": [
      "[ 26.76410256 434.13333333] [ 10.12221439 320.45298734]\n"
     ]
    }
   ],
   "source": [
    "mean = np.mean(train_input, axis=0)\n",
    "std = np.std(train_input, axis=0)\n",
    "print(mean, std)"
   ]
  },
  {
   "cell_type": "code",
   "execution_count": 12,
   "id": "ecb822d0",
   "metadata": {},
   "outputs": [],
   "source": [
    "train_scaled = (train_input - mean) / std\n",
    "# mean = np.mean(train_scaled, axis=0)\n",
    "# std = np.std(train_scaled, axis=0)\n",
    "# print(mean, std)"
   ]
  },
  {
   "cell_type": "code",
   "execution_count": 13,
   "id": "86f24f86",
   "metadata": {},
   "outputs": [
    {
     "name": "stdout",
     "output_type": "stream",
     "text": [
      "0.7\n",
      "1.0\n"
     ]
    }
   ],
   "source": [
    "knn.fit(train_scaled, train_target)\n",
    "print(knn.score(test_input, test_target))  # 잘못된 결과.. !!\n",
    "\n",
    "test_scaled = (test_input - mean) / std\n",
    "print(knn.score(test_scaled, test_target))"
   ]
  },
  {
   "cell_type": "code",
   "execution_count": 14,
   "id": "cf94df48",
   "metadata": {},
   "outputs": [
    {
     "name": "stdout",
     "output_type": "stream",
     "text": [
      "[1]\n"
     ]
    }
   ],
   "source": [
    "predict_data = (np.array([25, 150]) - mean) / std\n",
    "print(knn.predict([predict_data]))"
   ]
  }
 ],
 "metadata": {
  "kernelspec": {
   "display_name": "Python 3",
   "language": "python",
   "name": "python3"
  },
  "language_info": {
   "codemirror_mode": {
    "name": "ipython",
    "version": 3
   },
   "file_extension": ".py",
   "mimetype": "text/x-python",
   "name": "python",
   "nbconvert_exporter": "python",
   "pygments_lexer": "ipython3",
   "version": "3.10.12"
  }
 },
 "nbformat": 4,
 "nbformat_minor": 5
}
