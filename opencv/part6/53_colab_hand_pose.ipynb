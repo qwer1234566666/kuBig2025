{
 "cells": [
  {
   "cell_type": "code",
   "execution_count": 4,
   "id": "a07982e8",
   "metadata": {},
   "outputs": [
    {
     "name": "stdout",
     "output_type": "stream",
     "text": [
      "--2025-06-05 16:07:01--  https://raw.githubusercontent.com/spmallick/learnopencv/refs/heads/master/HandPose/hand/pose_deploy.prototxt\n",
      "raw.githubusercontent.com (raw.githubusercontent.com) 해석 중... 185.199.111.133, 185.199.108.133, 185.199.110.133, ...\n",
      "다음으로 연결 중: raw.githubusercontent.com (raw.githubusercontent.com)|185.199.111.133|:443... 연결했습니다.\n",
      "HTTP 요청을 보냈습니다. 응답 기다리는 중... 200 OK\n",
      "길이: 26452 (26K) [text/plain]\n",
      "저장 위치: ‘pose_deploy.prototxt’\n",
      "\n",
      "pose_deploy.prototx 100%[===================>]  25.83K   119KB/s    / 0.2s     \n",
      "\n",
      "2025-06-05 16:07:02 (119 KB/s) - ‘pose_deploy.prototxt’ 저장함 [26452/26452]\n",
      "\n"
     ]
    }
   ],
   "source": [
    "!wget https://raw.githubusercontent.com/spmallick/learnopencv/refs/heads/master/HandPose/hand/pose_deploy.prototxt"
   ]
  },
  {
   "cell_type": "code",
   "execution_count": 5,
   "id": "e215bebd",
   "metadata": {},
   "outputs": [
    {
     "name": "stdout",
     "output_type": "stream",
     "text": [
      "--2025-06-05 16:07:03--  https://huggingface.co/camenduru/openpose/resolve/5e17f6ad43ab415a0114537541a8d37d2503424f/models/hand/pose_iter_102000.caffemodel\n",
      "huggingface.co (huggingface.co) 해석 중... 3.168.178.58, 3.168.178.101, 3.168.178.122, ...\n",
      "다음으로 연결 중: huggingface.co (huggingface.co)|3.168.178.58|:443... 연결했습니다.\n",
      "HTTP 요청을 보냈습니다. 응답 기다리는 중... 302 Found\n",
      "위치: https://cdn-lfs-us-1.hf.co/repos/86/05/8605ab3f750a36cde723f9dfd9634b742108bef91ecb311901ff13749b9dafac/f313aa5ef031ac91606e1a0383daa14be241a6e1a91c1155283dd28503c79c2d?response-content-disposition=inline%3B+filename*%3DUTF-8%27%27pose_iter_102000.caffemodel%3B+filename%3D%22pose_iter_102000.caffemodel%22%3B&Expires=1749110824&Policy=eyJTdGF0ZW1lbnQiOlt7IkNvbmRpdGlvbiI6eyJEYXRlTGVzc1RoYW4iOnsiQVdTOkVwb2NoVGltZSI6MTc0OTExMDgyNH19LCJSZXNvdXJjZSI6Imh0dHBzOi8vY2RuLWxmcy11cy0xLmhmLmNvL3JlcG9zLzg2LzA1Lzg2MDVhYjNmNzUwYTM2Y2RlNzIzZjlkZmQ5NjM0Yjc0MjEwOGJlZjkxZWNiMzExOTAxZmYxMzc0OWI5ZGFmYWMvZjMxM2FhNWVmMDMxYWM5MTYwNmUxYTAzODNkYWExNGJlMjQxYTZlMWE5MWMxMTU1MjgzZGQyODUwM2M3OWMyZD9yZXNwb25zZS1jb250ZW50LWRpc3Bvc2l0aW9uPSoifV19&Signature=ESxYd%7EHVL0-fYjwCl6mmpaEJnVI9xHP5ca8YUVNIXeuJwE5%7E3oqBUM0L8Pcw9ZVCf3Ji6mjgiT8b2ylbuYlcYGspOwX4ggsIi1V7Qyn9N%7ECkED6hphkyxKucqmva6lghjOFvmKsDfwOeL8jXEfgoTLpeN4OwhYzPWJaDyVCw2ld3nKzrZkVQTkK4nSOduS7RalSPpU%7Er9f4vb2ksCNTJd7iYR2SYOQ1zTwoH2BpDDo5cyNCgSSItcmdAhkeIhk3XYDpLOia6ENX6EFhYHp5HOC4ArK1AS0lwrdnGHV2VNDIaQJISxNxK4UxC1fK3BX3sEywc17VgFzPsRHpapkOJUQ__&Key-Pair-Id=K24J24Z295AEI9 [따라감]\n",
      "--2025-06-05 16:07:04--  https://cdn-lfs-us-1.hf.co/repos/86/05/8605ab3f750a36cde723f9dfd9634b742108bef91ecb311901ff13749b9dafac/f313aa5ef031ac91606e1a0383daa14be241a6e1a91c1155283dd28503c79c2d?response-content-disposition=inline%3B+filename*%3DUTF-8%27%27pose_iter_102000.caffemodel%3B+filename%3D%22pose_iter_102000.caffemodel%22%3B&Expires=1749110824&Policy=eyJTdGF0ZW1lbnQiOlt7IkNvbmRpdGlvbiI6eyJEYXRlTGVzc1RoYW4iOnsiQVdTOkVwb2NoVGltZSI6MTc0OTExMDgyNH19LCJSZXNvdXJjZSI6Imh0dHBzOi8vY2RuLWxmcy11cy0xLmhmLmNvL3JlcG9zLzg2LzA1Lzg2MDVhYjNmNzUwYTM2Y2RlNzIzZjlkZmQ5NjM0Yjc0MjEwOGJlZjkxZWNiMzExOTAxZmYxMzc0OWI5ZGFmYWMvZjMxM2FhNWVmMDMxYWM5MTYwNmUxYTAzODNkYWExNGJlMjQxYTZlMWE5MWMxMTU1MjgzZGQyODUwM2M3OWMyZD9yZXNwb25zZS1jb250ZW50LWRpc3Bvc2l0aW9uPSoifV19&Signature=ESxYd%7EHVL0-fYjwCl6mmpaEJnVI9xHP5ca8YUVNIXeuJwE5%7E3oqBUM0L8Pcw9ZVCf3Ji6mjgiT8b2ylbuYlcYGspOwX4ggsIi1V7Qyn9N%7ECkED6hphkyxKucqmva6lghjOFvmKsDfwOeL8jXEfgoTLpeN4OwhYzPWJaDyVCw2ld3nKzrZkVQTkK4nSOduS7RalSPpU%7Er9f4vb2ksCNTJd7iYR2SYOQ1zTwoH2BpDDo5cyNCgSSItcmdAhkeIhk3XYDpLOia6ENX6EFhYHp5HOC4ArK1AS0lwrdnGHV2VNDIaQJISxNxK4UxC1fK3BX3sEywc17VgFzPsRHpapkOJUQ__&Key-Pair-Id=K24J24Z295AEI9\n",
      "cdn-lfs-us-1.hf.co (cdn-lfs-us-1.hf.co) 해석 중... 3.171.185.62, 3.171.185.106, 3.171.185.33, ...\n",
      "다음으로 연결 중: cdn-lfs-us-1.hf.co (cdn-lfs-us-1.hf.co)|3.171.185.62|:443... 연결했습니다.\n",
      "HTTP 요청을 보냈습니다. 응답 기다리는 중... 200 OK\n",
      "길이: 147344024 (141M) [binary/octet-stream]\n",
      "저장 위치: ‘pose_iter_102000.caffemodel’\n",
      "\n",
      "pose_iter_102000.ca 100%[===================>] 140.52M  89.4MB/s    / 1.6s     \n",
      "\n",
      "2025-06-05 16:07:05 (89.4 MB/s) - ‘pose_iter_102000.caffemodel’ 저장함 [147344024/147344024]\n",
      "\n"
     ]
    }
   ],
   "source": [
    "!wget https://huggingface.co/camenduru/openpose/resolve/5e17f6ad43ab415a0114537541a8d37d2503424f/models/hand/pose_iter_102000.caffemodel\n",
    "     "
   ]
  },
  {
   "cell_type": "code",
   "execution_count": 6,
   "id": "4f6ceffc",
   "metadata": {},
   "outputs": [
    {
     "ename": "error",
     "evalue": "OpenCV(4.5.4) ./modules/dnn/src/caffe/caffe_io.cpp:1126: error: (-2:Unspecified error) FAILED: fs.is_open(). Can't open \"hand/pose_deploy.prototxt\" in function 'ReadProtoFromTextFile'\n",
     "output_type": "error",
     "traceback": [
      "\u001b[0;31m---------------------------------------------------------------------------\u001b[0m",
      "\u001b[0;31merror\u001b[0m                                     Traceback (most recent call last)",
      "Cell \u001b[0;32mIn[6], line 30\u001b[0m\n\u001b[1;32m      7\u001b[0m nPoints \u001b[38;5;241m=\u001b[39m \u001b[38;5;241m22\u001b[39m\n\u001b[1;32m      8\u001b[0m POSE_PAIRS \u001b[38;5;241m=\u001b[39m [\n\u001b[1;32m      9\u001b[0m     [\u001b[38;5;241m0\u001b[39m, \u001b[38;5;241m1\u001b[39m],\n\u001b[1;32m     10\u001b[0m     [\u001b[38;5;241m1\u001b[39m, \u001b[38;5;241m2\u001b[39m],\n\u001b[0;32m   (...)\u001b[0m\n\u001b[1;32m     28\u001b[0m     [\u001b[38;5;241m19\u001b[39m, \u001b[38;5;241m20\u001b[39m],\n\u001b[1;32m     29\u001b[0m ]\n\u001b[0;32m---> 30\u001b[0m net \u001b[38;5;241m=\u001b[39m \u001b[43mcv2\u001b[49m\u001b[38;5;241;43m.\u001b[39;49m\u001b[43mdnn\u001b[49m\u001b[38;5;241;43m.\u001b[39;49m\u001b[43mreadNetFromCaffe\u001b[49m\u001b[43m(\u001b[49m\u001b[43mprotoFile\u001b[49m\u001b[43m,\u001b[49m\u001b[43m \u001b[49m\u001b[43mweightsFile\u001b[49m\u001b[43m)\u001b[49m\n",
      "\u001b[0;31merror\u001b[0m: OpenCV(4.5.4) ./modules/dnn/src/caffe/caffe_io.cpp:1126: error: (-2:Unspecified error) FAILED: fs.is_open(). Can't open \"hand/pose_deploy.prototxt\" in function 'ReadProtoFromTextFile'\n"
     ]
    }
   ],
   "source": [
    "import cv2\n",
    "import time\n",
    "import numpy as np\n",
    "\n",
    "protoFile = \"hand/pose_deploy.prototxt\"\n",
    "weightsFile = \"hand/pose_iter_102000.caffemodel\"\n",
    "nPoints = 22\n",
    "POSE_PAIRS = [\n",
    "    [0, 1],\n",
    "    [1, 2],\n",
    "    [2, 3],\n",
    "    [3, 4],\n",
    "    [0, 5],\n",
    "    [5, 6],\n",
    "    [6, 7],\n",
    "    [7, 8],\n",
    "    [0, 9],\n",
    "    [9, 10],\n",
    "    [10, 11],\n",
    "    [11, 12],\n",
    "    [0, 13],\n",
    "    [13, 14],\n",
    "    [14, 15],\n",
    "    [15, 16],\n",
    "    [0, 17],\n",
    "    [17, 18],\n",
    "    [18, 19],\n",
    "    [19, 20],\n",
    "]\n",
    "net = cv2.dnn.readNetFromCaffe(protoFile, weightsFile)"
   ]
  }
 ],
 "metadata": {
  "kernelspec": {
   "display_name": "Python 3",
   "language": "python",
   "name": "python3"
  },
  "language_info": {
   "codemirror_mode": {
    "name": "ipython",
    "version": 3
   },
   "file_extension": ".py",
   "mimetype": "text/x-python",
   "name": "python",
   "nbconvert_exporter": "python",
   "pygments_lexer": "ipython3",
   "version": "3.10.12"
  }
 },
 "nbformat": 4,
 "nbformat_minor": 5
}
